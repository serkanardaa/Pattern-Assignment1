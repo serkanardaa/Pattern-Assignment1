{
 "cells": [
  {
   "cell_type": "markdown",
   "metadata": {},
   "source": [
    "# A.1 HMM Signal Source"
   ]
  },
  {
   "cell_type": "markdown",
   "metadata": {},
   "source": [
    "In this first project assignment you will discover how an HMM can generate a sequence with a kind of structured randomness that is typical of many real-life signals. You will do this by coding an HMM signal source in Python. You will also have to verify that your implementation is correct. You must submit your work before the deadline, as instructed on the course project web page."
   ]
  },
  {
   "cell_type": "markdown",
   "metadata": {},
   "source": [
    "This assignment will be based on a few classes that have been provided to you in the PattRecClasses directory. The PattRecClasses package contains definitions of a few classes that are intended to work together. Each class is defined in a separate Python file:\n",
    "\n",
    "    DiscreteD   %Implements discrete distribution\n",
    "    GaussD      %Implements a Gaussian scalar or vector distribution\n",
    "    HMM         %A general HMM class\n",
    "    MarkovChain %Implements the state-generator part of an HMM"
   ]
  },
  {
   "cell_type": "code",
   "execution_count": 1,
   "metadata": {},
   "outputs": [],
   "source": [
    "from PattRecClasses import DiscreteD, GaussD, HMM, MarkovChain\n",
    "from matplotlib import pyplot as plt\n",
    "\n",
    "import numpy as np"
   ]
  },
  {
   "cell_type": "markdown",
   "metadata": {},
   "source": [
    "An HMM object consists of one object called StateGen of class MarkovChain and one OutputDistr object array of class DiscreteD, GaussD, or GaussMixD, to represent the state-conditional HMM output distributions. \n",
    "\n",
    "> The purpose of this class structure is to allow extensions to any type of output probability distribution without changing the other classes. \n",
    "\n",
    "You can easily define additional distribution types yourself, if needed. Regardless of its type, the array of output distributions must include exactly one element for each of the possible MarkovChain states. It is very easy to define a simple HMM using the various class constructor methods:"
   ]
  },
  {
   "cell_type": "code",
   "execution_count": null,
   "metadata": {},
   "outputs": [],
   "source": [
    "\"\"\"\n",
    "# Example: Define and use a simple infinite-duration HMM\n",
    "\n",
    "# State generator\n",
    "mc = MarkovChain( np.array( [ 0.5, 0.5 ] ), np.array( [ [ 0.9, 0.1 ], [ 0.05, 0.95 ] ] ) ) \n",
    "\n",
    "g1 = GaussD( means=[0], stdevs=[1] )   # Distribution for state = 1\n",
    "g2 = GaussD( means=[2], stdevs=[3] )   # Distribution for state = 2\n",
    "h  = HMM( mc, [g1, g2])                # The HMM\n",
    "\n",
    "# Generate an output sequence\n",
    "x,s = h.rand( 100 )\n",
    "\n",
    "plt.plot( x[0] )\n",
    "\"\"\""
   ]
  },
  {
   "cell_type": "markdown",
   "metadata": {},
   "source": [
    "Exampe of plot for the above code. (You can uncomment and test the above code when you have completed A.1.1.)\n",
    "\n",
    "<img src=\"images/hmm_example.png\" alt=\"test example\" style=\"width: 300px;\">"
   ]
  },
  {
   "cell_type": "markdown",
   "metadata": {},
   "source": [
    "Every Python definition must include a _constructor_ method that always has the same name as the class, e.g., MarkovChain. You will find that many of the class methods have already been implemented for you, although the code can probably be improved."
   ]
  },
  {
   "cell_type": "markdown",
   "metadata": {},
   "source": [
    "## A.1.1 HMM Random Source"
   ]
  },
  {
   "cell_type": "markdown",
   "metadata": {},
   "source": [
    "Your task is to code and verify Python methods to generate an output sequence of random real numbers $x = (x_1 ...x_t ...x_T)$ from an HMM with scalar Gaussian output distributions. However, your code should be general enough to handle a vector random variables as well.\n",
    "\n",
    "An HMM output sequence is always the result of two separate random operations: First, the hidden Markov chain must generate an integer state sequence $s = (s_1 . . . s_T )$.\n",
    "\n",
    "Then, for each element st in the state sequence, the corresponding state-conditional output distribution generates the random observable output X_t. In the PattRecClasses code package three different functions are involved in the process: @HMM/rand, @MarkovChain/rand, and for example @GaussD/rand, if the output distribution is an instance of the GaussD class."
   ]
  },
  {
   "cell_type": "markdown",
   "metadata": {},
   "source": [
    "### Tasks\n",
    "\n",
    "1. Open @DiscreteD and finish the code of the <i>rand function</i> to perform as specified by the functions comments. Save the file, restart the kernel and reimport the class DiscreteD. \n",
    "\n",
    "2. Open @MarkovChain and finish the code of the <i>rand function</i> to perform as specified by the functions comments. Save the file, restart the kernel and reimport the class MarkovChain. \n",
    "Since the initial state of a Markov chain, and its transitions conditioned on the current state, can be seen as discrete random variables, you can use the DiscreteD class and the rand method you implemented in the previous step to simplify your work here. Note that your function must be able to generate output sequences for either an infinite-duration or a finite-duration Markov chain. Of course, your function should only produce sequences of finite length, even if the HMM itself could in principle continue forever.\n",
    "\n",
    "3. Open @HMM and finish the code of the <i>rand function</i> to perform as specified by the functions comments. Save the file, restart the kernel and reimport the class HMM. \n"
   ]
  },
  {
   "cell_type": "markdown",
   "metadata": {},
   "source": [
    "## A.1.2 Verify the MarkovChain and HMM Sources"
   ]
  },
  {
   "cell_type": "markdown",
   "metadata": {},
   "source": [
    "To verify your code, use the following infinite-duration HMM $\\lambda = {q, A, B}$ as a first test example:\n",
    "\n",
    "<img src=\"images/a_1_2_1.png\" alt=\"test example\" style=\"width: 500px;\">\n",
    "\n",
    "where $b_1(x)$ is a scalar Gaussian density function with mean $\\mu_1 = 0$ and standard deviation $\\sigma_1 = 1$, and $b_2(x)$ is a similar distribution with mean $\\mu_2 = 3$ and standard deviation $\\sigma_2 = 2$.\n",
    "\n",
    "1. To verify your Markov chain code, calculate $P (S_t = j),\\,j ∈ {1, 2}$ for $t = 1,2,3,\\dots$ theoretically, by hand, to verify that $P(S_t = j)$ is actually constant for all $t$.\n",
    "2. Use your Markov chain rand function to generate a sequence of $T = 10000$ state integer numbers from the test Markov chain. Calculate the relative frequency of occurrences of $S_t = 1$ and $S_t = 2$. The relative frequencies should of course be approximately equal to $P(S_t)$.\n",
    "3. To verify your HMM rand method, first calculate $E[X_t]$ and $var[X_t]$ theoretically. The conditional expectation formulas $\\mu_X = E[X] = E_Z [E_X [X|Z]]$ and $var [X] = E_Z [var_X [X|Z]] + var_Z [E_X [X|Z]]$ apply generally whenever some variable $X$ depends on another variable $Z$ and may be useful for the calculations. Then use your HMM rand function to generate a sequence of $T = 10000$ output scalar random numbers $x = (x_1 \\dots x_t \\dots x_T)$ from the given HMM test example. Use the standard Numpy functions $np.mean()$ and $np.var()$ to calculate the mean and variance of your generated sequence. The result should agree approximately with your theoretical values.\n",
    "4. To get an impression of how the HMM behaves, use @HMM/rand to generate a series of $500$ contiguous samples $X_t$ from the HMM, and plot them as a function of $t$. Do this many times until you have a good idea of what characterizes typical output of this HMM, and what structure there is to the randomness. Describe the behaviour in one or two sentences in your report. Also include one such plot in the report, labelled using title, xlabel, and ylabel to clearly show which variable is plotted along which axis. You should do this for every plot in the course project.\n",
    "5. Create a new HMM, identical to the previous one except that it has $\\mu_2 = \\mu_1 = 0$. Generate and plot $500$ contiguous values several times using @HMM/rand for this HMM. What is similar about how the two HMMs behave? What is different with this new HMM? Is it possible to estimate the state sequence $S$ of the underlying Markov chain from the observed output variables $x$ in this case?\n",
    "6. Another aspect you must check is that your rand-function works for _finite-duration_ HMMs. Define a new test HMM of your own and verify that your function returns reasonable results.\n",
    "7. Finally, your rand function should work also when the state-conditional output distributions generate random vectors. Define a new test HMM of your own where the outputs are Gaussian vector distributions, and verify that this also works with your code. (Note that a single instance of the GaussD class is capable of generating vector output; stacking several GaussD-objects is not correct.) At least one of the output distributions should have a non-diagonal covariance matrix such as\n",
    "\n",
    "<img src=\"images/a_1_2_2.png\" alt=\"test example\" style=\"width: 160px;\">\n",
    "\n",
    "#### You should write the code used to answer questions 2, 3, 4, 5, 6, 7 below in the dedicated blocs."
   ]
  },
  {
   "cell_type": "markdown",
   "metadata": {},
   "source": [
    "### Question 2: "
   ]
  },
  {
   "cell_type": "code",
   "execution_count": null,
   "metadata": {},
   "outputs": [],
   "source": [
    "\n"
   ]
  },
  {
   "cell_type": "markdown",
   "metadata": {},
   "source": [
    "### Question 3:"
   ]
  },
  {
   "cell_type": "code",
   "execution_count": null,
   "metadata": {},
   "outputs": [],
   "source": [
    "\n"
   ]
  },
  {
   "cell_type": "markdown",
   "metadata": {},
   "source": [
    "### Question 4: "
   ]
  },
  {
   "cell_type": "code",
   "execution_count": null,
   "metadata": {},
   "outputs": [],
   "source": [
    "\n"
   ]
  },
  {
   "cell_type": "markdown",
   "metadata": {},
   "source": [
    "### Question 5: "
   ]
  },
  {
   "cell_type": "code",
   "execution_count": null,
   "metadata": {},
   "outputs": [],
   "source": [
    "\n"
   ]
  },
  {
   "cell_type": "markdown",
   "metadata": {},
   "source": [
    "### Question 6: "
   ]
  },
  {
   "cell_type": "code",
   "execution_count": null,
   "metadata": {},
   "outputs": [],
   "source": [
    "\n"
   ]
  },
  {
   "cell_type": "markdown",
   "metadata": {},
   "source": [
    "### Question 7: "
   ]
  },
  {
   "cell_type": "code",
   "execution_count": null,
   "metadata": {},
   "outputs": [],
   "source": [
    "\n"
   ]
  },
  {
   "cell_type": "markdown",
   "metadata": {},
   "source": [
    "### Your submission should include\n",
    "\n",
    "* A zip file with the whole Jupyter project\n",
    "\n",
    "* A Latex report with: \n",
    "    * Your theoretically calculated $P(S_t = j)$ for the first infinite-duration HMM, and your corresponding measured relative frequencies.\n",
    "    * Your theoretically calculated $E[X_t]$ and $var[X_t]$, and your corresponding measured results.\n",
    "    * A plot of $500$ contiguous values randomized from the first infinite-duration HMM, with a description of typical output behaviour. \n",
    "    * A discussion of the output behaviour of the second infinite-duration HMM, with answers to the associated questions.\n",
    "    * The definition of your finite-duration test HMM, together with the lengths of some test sequences you obtained, and relevant code. Discuss briefly why you think those lengths are reasonable.\n",
    "    * The definition of your vector-valued test HMM, and the code you used to verify that vector output distributions work with your implementation.\n",
    "    \n",
    "#### The deadline for this assignenment is April 22nd at 23.59"
   ]
  },
  {
   "cell_type": "code",
   "execution_count": null,
   "metadata": {},
   "outputs": [],
   "source": []
  }
 ],
 "metadata": {
  "kernelspec": {
   "display_name": "Python 3",
   "language": "python",
   "name": "python3"
  },
  "language_info": {
   "codemirror_mode": {
    "name": "ipython",
    "version": 3
   },
   "file_extension": ".py",
   "mimetype": "text/x-python",
   "name": "python",
   "nbconvert_exporter": "python",
   "pygments_lexer": "ipython3",
   "version": "3.8.5"
  }
 },
 "nbformat": 4,
 "nbformat_minor": 2
}
