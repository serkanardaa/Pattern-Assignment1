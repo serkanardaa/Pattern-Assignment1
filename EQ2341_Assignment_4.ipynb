{
 "cells": [
  {
   "cell_type": "markdown",
   "id": "67efc4ff",
   "metadata": {},
   "source": [
    "# A.4 Backward Algorithm"
   ]
  },
  {
   "cell_type": "markdown",
   "id": "b3f7b9d9",
   "metadata": {},
   "source": [
    "In this assignment, we are going to improve our codes in PattRecClasses and implement forward algorithm inside MarkovChain code as well as functions such as logprob and prob in Guassian in order to generate proper input values for forward algorithm."
   ]
  },
  {
   "cell_type": "code",
   "execution_count": 1,
   "id": "57129e68",
   "metadata": {},
   "outputs": [],
   "source": [
    "from PattRecClasses import DiscreteD, GaussD, HMM, MarkovChain, Px_calc, gauss_logprob\n",
    "from matplotlib import pyplot as plt\n",
    "\n",
    "import numpy as np"
   ]
  },
  {
   "cell_type": "markdown",
   "id": "ed04fa1e",
   "metadata": {},
   "source": [
    "## 1-Verify The Implementation"
   ]
  },
  {
   "cell_type": "markdown",
   "id": "345f3a6c",
   "metadata": {},
   "source": [
    "### 1.1- Finite Markov Chain Test with MarkovChain/backward"
   ]
  },
  {
   "cell_type": "code",
   "execution_count": 2,
   "id": "6f02c5ad",
   "metadata": {},
   "outputs": [
    {
     "name": "stdout",
     "output_type": "stream",
     "text": [
      "Px matrix:\n",
      "[[1.         0.06947052 1.        ]\n",
      " [0.14182701 1.         0.81107303]]\n",
      "ahat values:\n",
      "[[1.         0.38470424 0.41887466]\n",
      " [0.         0.61529576 0.58112534]]\n",
      "c values:\n",
      "[1.     0.1625 0.8266 0.0581]\n",
      "(2, 3)\n",
      "(2, 3)\n",
      "(2, 3)\n",
      "1 0 0\n",
      "1 0 1\n",
      "1 1 0\n",
      "1 1 1\n",
      "0 0 0\n",
      "0.06497976063597927\n",
      "0 0 1\n",
      "0.9353573661183536\n",
      "0 1 0\n",
      "0 1 1\n",
      "Bhat matrix: [[0.93535737 1.03928596 0.        ]\n",
      " [8.4182163  9.35357366 2.08222888]]\n"
     ]
    }
   ],
   "source": [
    "q = np.array( [ 1, 0 ] )\n",
    "A = np.array( [ [ 0.9 , 0.1, 0],[0, 0.9, 0.1] ] )\n",
    "\n",
    "mc = MarkovChain(q,A) \n",
    "\n",
    "x = np.array([-0.2, 2.6, 1.3])\n",
    "\n",
    "g1 = GaussD( means=[0], stdevs=[1] )   # Distribution for state = 1\n",
    "g2 = GaussD( means=[3], stdevs=[2] )   # Distribution for state = 2\n",
    "\n",
    "state_dists = [g1, g2]\n",
    "\n",
    "P, scale_factor = Px_calc(state_dists, x )\n",
    "Px = P * scale_factor\n",
    "\n",
    "[ahat, c] = mc.forward(Px)\n",
    "c = np.array([1, 0.1625, 0.8266, 0.0581])\n",
    "\n",
    "print(\"Px matrix:\")\n",
    "print(Px)\n",
    "print(\"ahat values:\")\n",
    "print(ahat)\n",
    "print(\"c values:\")\n",
    "print(c)\n",
    "\n",
    "bhat = mc.backward(Px,c)\n",
    "\n",
    "print(\"Bhat matrix:\", bhat)\n"
   ]
  },
  {
   "cell_type": "markdown",
   "id": "e724efe9",
   "metadata": {},
   "source": [
    "### 1.2-Infinite Markov Chain Test with MarkovChain/forward"
   ]
  },
  {
   "cell_type": "code",
   "execution_count": 3,
   "id": "420d8644",
   "metadata": {},
   "outputs": [
    {
     "name": "stdout",
     "output_type": "stream",
     "text": [
      "Px matrix:\n",
      "[[1.         0.06947052 1.        ]\n",
      " [0.14182701 1.         0.81107303]]\n",
      "ahat_inf values:\n",
      "[[1.         0.38470424 0.45913586]\n",
      " [0.         0.61529576 0.54086414]]\n",
      "c_inf values:\n",
      "[1.         0.16252347 0.88811053]\n"
     ]
    }
   ],
   "source": [
    "A_inf = np.array( [ [ 0.9 , 0.1], [0.1, 0.9] ] )\n",
    "mc_inf = MarkovChain(q,A_inf) \n",
    "\n",
    "[ahat_inf, c_inf] = mc_inf.forward(Px)\n",
    "\n",
    "print(\"Px matrix:\")\n",
    "print(Px)\n",
    "print(\"ahat_inf values:\")\n",
    "print(ahat_inf)\n",
    "print(\"c_inf values:\")\n",
    "print(c_inf)"
   ]
  },
  {
   "cell_type": "markdown",
   "id": "f4c9d7da",
   "metadata": {},
   "source": [
    "### 1.3-Probability of Observed Sequence with HMM/logprob"
   ]
  },
  {
   "cell_type": "code",
   "execution_count": 4,
   "id": "61c93752",
   "metadata": {},
   "outputs": [
    {
     "name": "stdout",
     "output_type": "stream",
     "text": [
      "observation probability\n",
      "-9.187726979475208\n"
     ]
    }
   ],
   "source": [
    "h  = HMM( mc, state_dists)\n",
    "obs_prob = h.logprob(x)\n",
    "print(\"observation probability\")\n",
    "print(obs_prob)"
   ]
  },
  {
   "cell_type": "markdown",
   "id": "f0ac7416",
   "metadata": {},
   "source": [
    "#### The same case with infinite markov chain"
   ]
  },
  {
   "cell_type": "code",
   "execution_count": 5,
   "id": "93fba39a",
   "metadata": {},
   "outputs": [
    {
     "name": "stdout",
     "output_type": "stream",
     "text": [
      "observation probability for infinite HMM\n",
      "-6.2705547326057935\n"
     ]
    }
   ],
   "source": [
    "h  = HMM( mc_inf, state_dists)\n",
    "obs_prob = h.logprob(x)\n",
    "print(\"observation probability for infinite HMM\")\n",
    "print(obs_prob)"
   ]
  }
 ],
 "metadata": {
  "kernelspec": {
   "display_name": "Python 3",
   "language": "python",
   "name": "python3"
  },
  "language_info": {
   "codemirror_mode": {
    "name": "ipython",
    "version": 3
   },
   "file_extension": ".py",
   "mimetype": "text/x-python",
   "name": "python",
   "nbconvert_exporter": "python",
   "pygments_lexer": "ipython3",
   "version": "3.8.5"
  }
 },
 "nbformat": 4,
 "nbformat_minor": 5
}
