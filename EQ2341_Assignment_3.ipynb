{
 "cells": [
  {
   "cell_type": "markdown",
   "id": "10f8e24e",
   "metadata": {},
   "source": [
    "# A.3 Forward Algorithm"
   ]
  },
  {
   "cell_type": "markdown",
   "id": "31bf6b03",
   "metadata": {},
   "source": [
    "In this assignment, we are going to improve our codes in PattRecClasses and implement forward algorithm inside MarkovChain code as well as functions such as logprob and prob in Guassian in order to generate proper input values for forward algorithm."
   ]
  },
  {
   "cell_type": "code",
   "execution_count": 1,
   "id": "adffde1a",
   "metadata": {},
   "outputs": [],
   "source": [
    "from PattRecClasses import DiscreteD, GaussD, HMM, MarkovChain, Px_calc\n",
    "from matplotlib import pyplot as plt\n",
    "\n",
    "import numpy as np"
   ]
  },
  {
   "cell_type": "markdown",
   "id": "4a0b8c19",
   "metadata": {},
   "source": [
    "## 1-Testing Px_calc"
   ]
  },
  {
   "cell_type": "markdown",
   "id": "082f0c1f",
   "metadata": {},
   "source": [
    "In this step, before we get into forward algorithm, we will be validating our function called Px_calc which calculates Px matrix that is going to be used as an input in forward algorithm."
   ]
  },
  {
   "cell_type": "code",
   "execution_count": 2,
   "id": "26ed8d07",
   "metadata": {},
   "outputs": [
    {
     "name": "stdout",
     "output_type": "stream",
     "text": [
      "3\n",
      "2\n",
      "<class 'numpy.ndarray'>\n",
      "<class 'list'>\n",
      "Individual probabilities of series of x in each distribution\n",
      "prob for x1 in g1 :[0.39104269]\n",
      "prob for x2 in g1 :[0.35206533]\n",
      "prob for x3 in g1 :[0.38138782]\n",
      "prob for x1 in g2 :[0.07486373]\n",
      "prob for x2 in g2 :[0.09132454]\n",
      "prob for x3 in g2 :[0.08019166]\n",
      "Px matrix is calculated as:\n",
      "[[1.         0.19144644]\n",
      " [1.         0.25939658]\n",
      " [1.         0.21026278]]\n"
     ]
    }
   ],
   "source": [
    "x = np.array([0.2, 0.5, 0.3])\n",
    "\n",
    "g1 = GaussD( means=[0], stdevs=[1] )   # Distribution for state = 1\n",
    "g2 = GaussD( means=[3], stdevs=[2] )   # Distribution for state = 2\n",
    "\n",
    "\n",
    "\n",
    "state_dists = [g1, g2]\n",
    "print(x.size)\n",
    "print(len(state_dists))\n",
    "print(type(x))\n",
    "print(type(state_dists))\n",
    "\n",
    "#testing of prob function in GaussD\n",
    "\n",
    "prob_x1_g1 = g1.prob(x[0])\n",
    "prob_x2_g1 = g1.prob(x[1])\n",
    "prob_x3_g1 = g1.prob(x[2])\n",
    "\n",
    "prob_x1_g2 = g2.prob(x[0])\n",
    "prob_x2_g2 = g2.prob(x[1])\n",
    "prob_x3_g2 = g2.prob(x[2])\n",
    "\n",
    "print(\"Individual probabilities of series of x in each distribution\")\n",
    "print(\"prob for x1 in g1 :\" + str(prob_x1_g1))\n",
    "print(\"prob for x2 in g1 :\" +str(prob_x2_g1))\n",
    "print(\"prob for x3 in g1 :\" +str(prob_x3_g1))\n",
    "\n",
    "print(\"prob for x1 in g2 :\" +str(prob_x1_g2))\n",
    "print(\"prob for x2 in g2 :\" +str(prob_x2_g2))\n",
    "print(\"prob for x3 in g2 :\" +str(prob_x3_g2))\n",
    "\n",
    "#testing of Px_calc \n",
    "\n",
    "Px = Px_calc(x, state_dists)\n",
    "\n",
    "print(\"Px matrix is calculated as:\")\n",
    "print(Px)"
   ]
  },
  {
   "cell_type": "markdown",
   "id": "9d334afe",
   "metadata": {},
   "source": [
    "## 2-Verify The Implementation"
   ]
  },
  {
   "cell_type": "code",
   "execution_count": 3,
   "id": "d0dad44f",
   "metadata": {},
   "outputs": [
    {
     "name": "stdout",
     "output_type": "stream",
     "text": [
      "[[1.         0.14182701]\n",
      " [0.06947052 1.        ]\n",
      " [1.         0.81107303]]\n",
      "[[1.         0.38470424 0.41887466]\n",
      " [0.         0.61529576 0.58112534]]\n",
      "[1.         0.16252347 0.82658096 0.05811253]\n"
     ]
    }
   ],
   "source": [
    "q = np.array( [ 1, 0 ] )\n",
    "A = np.array( [ [ 0.9 , 0.1, 0],[0, 0.9, 0.1] ] )\n",
    "\n",
    "mc = MarkovChain(q,A) \n",
    "\n",
    "x = np.array([-0.2, 2.6, 1.3])\n",
    "\n",
    "g1 = GaussD( means=[0], stdevs=[1] )   # Distribution for state = 1\n",
    "g2 = GaussD( means=[3], stdevs=[2] )   # Distribution for state = 2\n",
    "\n",
    "state_dists = [g1, g2]\n",
    "\n",
    "Px = Px_calc(x, state_dists)\n",
    "\n",
    "[ahat, c] = mc.forward(Px)\n",
    "\n",
    "print(Px)\n",
    "print(ahat)\n",
    "print(c)\n"
   ]
  }
 ],
 "metadata": {
  "kernelspec": {
   "display_name": "Python 3",
   "language": "python",
   "name": "python3"
  },
  "language_info": {
   "codemirror_mode": {
    "name": "ipython",
    "version": 3
   },
   "file_extension": ".py",
   "mimetype": "text/x-python",
   "name": "python",
   "nbconvert_exporter": "python",
   "pygments_lexer": "ipython3",
   "version": "3.8.5"
  }
 },
 "nbformat": 4,
 "nbformat_minor": 5
}
