{
 "cells": [
  {
   "cell_type": "markdown",
   "id": "48ce969e",
   "metadata": {},
   "source": [
    "# A.3 Forward Algorithm"
   ]
  },
  {
   "cell_type": "markdown",
   "id": "1cb6a329",
   "metadata": {},
   "source": [
    "In this assignment, we are going to improve our codes in PattRecClasses and implement forward algorithm inside MarkovChain code as well as functions such as logprob and prob in Guassian in order to generate proper input values for forward algorithm."
   ]
  },
  {
   "cell_type": "code",
   "execution_count": 1,
   "id": "1797ccbe",
   "metadata": {},
   "outputs": [],
   "source": [
    "from PattRecClasses import DiscreteD, GaussD, HMM, MarkovChain, Px_calc\n",
    "from matplotlib import pyplot as plt\n",
    "\n",
    "import numpy as np"
   ]
  },
  {
   "cell_type": "markdown",
   "id": "3e5ca972",
   "metadata": {},
   "source": [
    "## 1-Testing Px_calc"
   ]
  },
  {
   "cell_type": "markdown",
   "id": "50251fa3",
   "metadata": {},
   "source": [
    "In this step, before we get into forward algorithm, we will be validating our function called Px_calc which calculates Px matrix that is going to be used as an input in forward algorithm."
   ]
  },
  {
   "cell_type": "code",
   "execution_count": 2,
   "id": "754db690",
   "metadata": {},
   "outputs": [
    {
     "name": "stdout",
     "output_type": "stream",
     "text": [
      "3\n",
      "2\n",
      "<class 'numpy.ndarray'>\n",
      "<class 'list'>\n",
      "Individual probabilities of series of x in each distribution\n",
      "prob for x1 in g1 :[0.39104269]\n",
      "prob for x2 in g1 :[0.35206533]\n",
      "prob for x3 in g1 :[0.38138782]\n",
      "prob for x1 in g2 :[0.07486373]\n",
      "prob for x2 in g2 :[0.09132454]\n",
      "prob for x3 in g2 :[0.08019166]\n",
      "Px matrix is calculated as:\n",
      "[[0.83931595 0.16068405]\n",
      " [0.79403106 0.20596894]\n",
      " [0.82626684 0.17373316]]\n"
     ]
    }
   ],
   "source": [
    "x = np.array([0.2, 0.5, 0.3])\n",
    "\n",
    "g1 = GaussD( means=[0], stdevs=[1] )   # Distribution for state = 1\n",
    "g2 = GaussD( means=[3], stdevs=[2] )   # Distribution for state = 2\n",
    "\n",
    "\n",
    "\n",
    "state_dists = [g1, g2]\n",
    "print(x.size)\n",
    "print(len(state_dists))\n",
    "print(type(x))\n",
    "print(type(state_dists))\n",
    "\n",
    "#testing of prob function in GaussD\n",
    "\n",
    "prob_x1_g1 = g1.prob(x[0])\n",
    "prob_x2_g1 = g1.prob(x[1])\n",
    "prob_x3_g1 = g1.prob(x[2])\n",
    "\n",
    "prob_x1_g2 = g2.prob(x[0])\n",
    "prob_x2_g2 = g2.prob(x[1])\n",
    "prob_x3_g2 = g2.prob(x[2])\n",
    "\n",
    "print(\"Individual probabilities of series of x in each distribution\")\n",
    "print(\"prob for x1 in g1 :\" + str(prob_x1_g1))\n",
    "print(\"prob for x2 in g1 :\" +str(prob_x2_g1))\n",
    "print(\"prob for x3 in g1 :\" +str(prob_x3_g1))\n",
    "\n",
    "print(\"prob for x1 in g2 :\" +str(prob_x1_g2))\n",
    "print(\"prob for x2 in g2 :\" +str(prob_x2_g2))\n",
    "print(\"prob for x3 in g2 :\" +str(prob_x3_g2))\n",
    "\n",
    "#testing of Px_calc \n",
    "\n",
    "Px = Px_calc(x, state_dists)\n",
    "\n",
    "print(\"Px matrix is calculated as:\")\n",
    "print(Px)"
   ]
  },
  {
   "cell_type": "markdown",
   "id": "ddd05d57",
   "metadata": {},
   "source": [
    "## 2-Verify The Implementation"
   ]
  },
  {
   "cell_type": "code",
   "execution_count": 3,
   "id": "af093884",
   "metadata": {},
   "outputs": [
    {
     "ename": "ValueError",
     "evalue": "operands could not be broadcast together with shapes (2,) (4,) ",
     "output_type": "error",
     "traceback": [
      "\u001b[1;31m---------------------------------------------------------------------------\u001b[0m",
      "\u001b[1;31mValueError\u001b[0m                                Traceback (most recent call last)",
      "\u001b[1;32m<ipython-input-3-dec6a3fcc0de>\u001b[0m in \u001b[0;36m<module>\u001b[1;34m\u001b[0m\n\u001b[0;32m     11\u001b[0m \u001b[0mPx\u001b[0m \u001b[1;33m=\u001b[0m \u001b[0mPx_calc\u001b[0m\u001b[1;33m(\u001b[0m\u001b[0mx\u001b[0m\u001b[1;33m,\u001b[0m \u001b[0mstate_dists\u001b[0m\u001b[1;33m)\u001b[0m\u001b[1;33m\u001b[0m\u001b[1;33m\u001b[0m\u001b[0m\n\u001b[0;32m     12\u001b[0m \u001b[1;33m\u001b[0m\u001b[0m\n\u001b[1;32m---> 13\u001b[1;33m \u001b[1;33m[\u001b[0m\u001b[0mahat\u001b[0m\u001b[1;33m,\u001b[0m \u001b[0mc\u001b[0m\u001b[1;33m]\u001b[0m \u001b[1;33m=\u001b[0m \u001b[0mmc\u001b[0m\u001b[1;33m.\u001b[0m\u001b[0mforward\u001b[0m\u001b[1;33m(\u001b[0m\u001b[0mPx\u001b[0m\u001b[1;33m)\u001b[0m\u001b[1;33m\u001b[0m\u001b[1;33m\u001b[0m\u001b[0m\n\u001b[0m\u001b[0;32m     14\u001b[0m \u001b[1;33m\u001b[0m\u001b[0m\n\u001b[0;32m     15\u001b[0m \u001b[0mprint\u001b[0m\u001b[1;33m(\u001b[0m\u001b[0mahat\u001b[0m\u001b[1;33m)\u001b[0m\u001b[1;33m\u001b[0m\u001b[1;33m\u001b[0m\u001b[0m\n",
      "\u001b[1;32m~\\Desktop\\KTH Lectures\\GIt\\Pattern-Assignment1\\PattRecClasses\\MarkovChain.py\u001b[0m in \u001b[0;36mforward\u001b[1;34m(self, pX)\u001b[0m\n\u001b[0;32m    137\u001b[0m         \u001b[0mc\u001b[0m\u001b[1;33m[\u001b[0m\u001b[1;36m0\u001b[0m\u001b[1;33m]\u001b[0m \u001b[1;33m=\u001b[0m \u001b[0mnp\u001b[0m\u001b[1;33m.\u001b[0m\u001b[0msum\u001b[0m\u001b[1;33m(\u001b[0m\u001b[0ma_temp\u001b[0m\u001b[1;33m[\u001b[0m\u001b[1;33m:\u001b[0m\u001b[1;33m,\u001b[0m\u001b[1;36m0\u001b[0m\u001b[1;33m]\u001b[0m\u001b[1;33m)\u001b[0m\u001b[1;33m\u001b[0m\u001b[1;33m\u001b[0m\u001b[0m\n\u001b[0;32m    138\u001b[0m         \u001b[1;31m# ahat[:,0] calculation\u001b[0m\u001b[1;33m\u001b[0m\u001b[1;33m\u001b[0m\u001b[1;33m\u001b[0m\u001b[0m\n\u001b[1;32m--> 139\u001b[1;33m         \u001b[0mahat\u001b[0m\u001b[1;33m[\u001b[0m\u001b[1;33m:\u001b[0m\u001b[1;33m,\u001b[0m\u001b[1;36m0\u001b[0m\u001b[1;33m]\u001b[0m \u001b[1;33m=\u001b[0m \u001b[0ma_temp\u001b[0m\u001b[1;33m[\u001b[0m\u001b[1;33m:\u001b[0m\u001b[1;33m,\u001b[0m\u001b[1;36m0\u001b[0m\u001b[1;33m]\u001b[0m \u001b[1;33m/\u001b[0m \u001b[0mc\u001b[0m\u001b[1;33m[\u001b[0m\u001b[1;36m0\u001b[0m\u001b[1;33m]\u001b[0m\u001b[1;33m\u001b[0m\u001b[1;33m\u001b[0m\u001b[0m\n\u001b[0m\u001b[0;32m    140\u001b[0m \u001b[1;33m\u001b[0m\u001b[0m\n\u001b[0;32m    141\u001b[0m         \u001b[1;31m### Forward step:\u001b[0m\u001b[1;33m\u001b[0m\u001b[1;33m\u001b[0m\u001b[1;33m\u001b[0m\u001b[0m\n",
      "\u001b[1;31mValueError\u001b[0m: operands could not be broadcast together with shapes (2,) (4,) "
     ]
    }
   ],
   "source": [
    "q = np.array( [ 1, 0 ] )\n",
    "A = np.array( [ [ 0.9 , 0.1, 0],[0, 0.9, 0.1] ] )\n",
    "\n",
    "mc = MarkovChain(q,A) \n",
    "\n",
    "g1 = GaussD( means=[0], stdevs=[1] )   # Distribution for state = 1\n",
    "g2 = GaussD( means=[3], stdevs=[2] )   # Distribution for state = 2\n",
    "\n",
    "state_dists = [g1, g2]\n",
    "\n",
    "Px = Px_calc(x, state_dists)\n",
    "\n",
    "[ahat, c] = mc.forward(Px)\n",
    "\n",
    "print(ahat)\n",
    "print(c)\n"
   ]
  }
 ],
 "metadata": {
  "kernelspec": {
   "display_name": "Python 3",
   "language": "python",
   "name": "python3"
  },
  "language_info": {
   "codemirror_mode": {
    "name": "ipython",
    "version": 3
   },
   "file_extension": ".py",
   "mimetype": "text/x-python",
   "name": "python",
   "nbconvert_exporter": "python",
   "pygments_lexer": "ipython3",
   "version": "3.8.5"
  }
 },
 "nbformat": 4,
 "nbformat_minor": 5
}
