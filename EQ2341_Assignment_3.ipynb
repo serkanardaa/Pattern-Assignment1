{
 "cells": [
  {
   "cell_type": "markdown",
   "id": "67efc4ff",
   "metadata": {},
   "source": [
    "# A.3 Forward Algorithm"
   ]
  },
  {
   "cell_type": "markdown",
   "id": "b3f7b9d9",
   "metadata": {},
   "source": [
    "In this assignment, we are going to improve our codes in PattRecClasses and implement forward algorithm inside MarkovChain code as well as functions such as logprob and prob in Guassian in order to generate proper input values for forward algorithm."
   ]
  },
  {
   "cell_type": "code",
   "execution_count": 1,
   "id": "57129e68",
   "metadata": {},
   "outputs": [],
   "source": [
    "from PattRecClasses import DiscreteD, GaussD, HMM, MarkovChain, Px_calc, gauss_logprob\n",
    "from matplotlib import pyplot as plt\n",
    "\n",
    "import numpy as np"
   ]
  },
  {
   "cell_type": "markdown",
   "id": "134da34f",
   "metadata": {},
   "source": [
    "## 1-Testing Px_calc"
   ]
  },
  {
   "cell_type": "markdown",
   "id": "333c5ee4",
   "metadata": {},
   "source": [
    "In this step, before we get into forward algorithm, we will be validating our function called Px_calc which calculates Px matrix that is going to be used as an input in forward algorithm."
   ]
  },
  {
   "cell_type": "code",
   "execution_count": 2,
   "id": "0da65d8a",
   "metadata": {
    "scrolled": true
   },
   "outputs": [
    {
     "name": "stdout",
     "output_type": "stream",
     "text": [
      "3\n",
      "2\n",
      "<class 'numpy.ndarray'>\n",
      "<class 'list'>\n",
      "Individual probabilities of series of x in each distribution\n",
      "prob for x1 in g1 :[0.39104269]\n",
      "prob for x2 in g1 :[0.35206533]\n",
      "prob for x3 in g1 :[0.38138782]\n",
      "prob for x1 in g2 :[0.07486373]\n",
      "prob for x2 in g2 :[0.09132454]\n",
      "prob for x3 in g2 :[0.08019166]\n",
      "Px matrix is calculated as:\n",
      "[[1.         0.19144644]\n",
      " [1.         0.25939658]\n",
      " [1.         0.21026278]]\n"
     ]
    }
   ],
   "source": [
    "x = np.array([0.2, 0.5, 0.3])\n",
    "\n",
    "g1 = GaussD( means=[0], stdevs=[1] )   # Distribution for state = 1\n",
    "g2 = GaussD( means=[3], stdevs=[2] )   # Distribution for state = 2\n",
    "\n",
    "\n",
    "\n",
    "state_dists = [g1, g2]\n",
    "print(x.size)\n",
    "print(len(state_dists))\n",
    "print(type(x))\n",
    "print(type(state_dists))\n",
    "\n",
    "#testing of prob function in GaussD\n",
    "\n",
    "prob_x1_g1 = g1.prob(x[0])\n",
    "prob_x2_g1 = g1.prob(x[1])\n",
    "prob_x3_g1 = g1.prob(x[2])\n",
    "\n",
    "prob_x1_g2 = g2.prob(x[0])\n",
    "prob_x2_g2 = g2.prob(x[1])\n",
    "prob_x3_g2 = g2.prob(x[2])\n",
    "\n",
    "print(\"Individual probabilities of series of x in each distribution\")\n",
    "print(\"prob for x1 in g1 :\" + str(prob_x1_g1))\n",
    "print(\"prob for x2 in g1 :\" +str(prob_x2_g1))\n",
    "print(\"prob for x3 in g1 :\" +str(prob_x3_g1))\n",
    "\n",
    "print(\"prob for x1 in g2 :\" +str(prob_x1_g2))\n",
    "print(\"prob for x2 in g2 :\" +str(prob_x2_g2))\n",
    "print(\"prob for x3 in g2 :\" +str(prob_x3_g2))\n",
    "\n",
    "#testing of Px_calc \n",
    "\n",
    "P, scale_factor = Px_calc(x, state_dists)\n",
    "\n",
    "Px = P * scale_factor\n",
    "\n",
    "print(\"Px matrix is calculated as:\")\n",
    "print(Px)"
   ]
  },
  {
   "cell_type": "markdown",
   "id": "e5249c75",
   "metadata": {},
   "source": [
    "### Comparison of Px_calc and gauss_logprob"
   ]
  },
  {
   "cell_type": "code",
   "execution_count": 3,
   "id": "1911887f",
   "metadata": {
    "scrolled": true
   },
   "outputs": [
    {
     "name": "stdout",
     "output_type": "stream",
     "text": [
      "Px matrix is calculated from Px_calc as:\n",
      "[[1.         0.19144644]\n",
      " [1.         0.25939658]\n",
      " [1.         0.21026278]]\n",
      "P matrix is calculated from Px_calc as:\n",
      "[[0.39104269 0.07486373]\n",
      " [0.35206533 0.09132454]\n",
      " [0.38138782 0.08019166]]\n",
      "log(P) matrix :\n",
      "[[-0.93893853 -2.59208571]\n",
      " [-1.04393853 -2.39333571]\n",
      " [-0.96393853 -2.52333571]]\n",
      "Px matrix is calculated from gauss_logprob as:\n",
      "[[-0.93893853 -1.04393853 -0.96393853]\n",
      " [-2.59208571 -2.39333571 -2.52333571]]\n"
     ]
    }
   ],
   "source": [
    "print(\"Px matrix is calculated from Px_calc as:\")\n",
    "print(Px)\n",
    "print(\"P matrix is calculated from Px_calc as:\")\n",
    "print(P)\n",
    "print(\"log(P) matrix :\")\n",
    "print(np.log(P))\n",
    "\n",
    "Px_logprob = gauss_logprob(state_dists, x.reshape(1,-1))\n",
    "\n",
    "print(\"Px matrix is calculated from gauss_logprob as:\")\n",
    "print(Px_logprob)\n",
    "\n",
    "\n"
   ]
  },
  {
   "cell_type": "markdown",
   "id": "ed04fa1e",
   "metadata": {},
   "source": [
    "## 2-Verify The Implementation"
   ]
  },
  {
   "cell_type": "markdown",
   "id": "345f3a6c",
   "metadata": {},
   "source": [
    "### 2.1- Finite Markov Chain Test with MarkovChain/forward"
   ]
  },
  {
   "cell_type": "code",
   "execution_count": 8,
   "id": "6f02c5ad",
   "metadata": {},
   "outputs": [
    {
     "name": "stdout",
     "output_type": "stream",
     "text": [
      "[[1.         0.14182701]\n",
      " [0.06947052 1.        ]\n",
      " [1.         0.81107303]]\n",
      "[[1.         0.38470424 0.41887466]\n",
      " [0.         0.61529576 0.58112534]]\n",
      "[1.         0.16252347 0.82658096 0.05811253]\n",
      "new calculation\n",
      "[[-0.93893853 -1.04393853 -0.96393853]\n",
      " [-2.59208571 -2.39333571 -2.52333571]]\n",
      "[[1.         0.79698194 0.51080755]\n",
      " [0.         0.20301806 0.48919245]]\n",
      "[-0.93893853 -1.17887825 -1.35357719  0.04891925]\n"
     ]
    }
   ],
   "source": [
    "q = np.array( [ 1, 0 ] )\n",
    "A = np.array( [ [ 0.9 , 0.1, 0],[0, 0.9, 0.1] ] )\n",
    "\n",
    "mc = MarkovChain(q,A) \n",
    "\n",
    "x = np.array([-0.2, 2.6, 1.3])\n",
    "\n",
    "g1 = GaussD( means=[0], stdevs=[1] )   # Distribution for state = 1\n",
    "g2 = GaussD( means=[3], stdevs=[2] )   # Distribution for state = 2\n",
    "\n",
    "state_dists = [g1, g2]\n",
    "\n",
    "P, scale_factor = Px_calc(x, state_dists)\n",
    "Px = P * scale_factor\n",
    "\n",
    "[ahat, c] = mc.forward(Px)\n",
    "\n",
    "print(Px)\n",
    "print(ahat)\n",
    "print(c)\n",
    "\n",
    "print(\"new calculation\")\n",
    "[ahat, c] = mc.forward(Px_logprob.transpose())\n",
    "print(Px_logprob)\n",
    "print(ahat)\n",
    "print(c)"
   ]
  },
  {
   "cell_type": "markdown",
   "id": "e724efe9",
   "metadata": {},
   "source": [
    "### 2.2-Infinite Markov Chaint Test with MarkovChain/forward"
   ]
  },
  {
   "cell_type": "code",
   "execution_count": 5,
   "id": "420d8644",
   "metadata": {},
   "outputs": [
    {
     "name": "stdout",
     "output_type": "stream",
     "text": [
      "[[1.         0.14182701]\n",
      " [0.06947052 1.        ]\n",
      " [1.         0.81107303]]\n",
      "[[1.         0.38470424 0.45913586]\n",
      " [0.         0.61529576 0.54086414]]\n",
      "[1.         0.16252347 0.88811053]\n"
     ]
    }
   ],
   "source": [
    "A_inf = np.array( [ [ 0.9 , 0.1], [0.1, 0.9] ] )\n",
    "mc_inf = MarkovChain(q,A_inf) \n",
    "\n",
    "[ahat_inf, c_inf] = mc_inf.forward(Px)\n",
    "\n",
    "print(Px)\n",
    "print(ahat_inf)\n",
    "print(c_inf)"
   ]
  },
  {
   "cell_type": "markdown",
   "id": "f4c9d7da",
   "metadata": {},
   "source": [
    "### 2.3-Probability of Observed Sequence with HMM/logprob"
   ]
  },
  {
   "cell_type": "code",
   "execution_count": 6,
   "id": "61c93752",
   "metadata": {},
   "outputs": [
    {
     "name": "stdout",
     "output_type": "stream",
     "text": [
      "-9.187726979475208\n"
     ]
    }
   ],
   "source": [
    "h  = HMM( mc, state_dists)\n",
    "obs_prob = h.logprob(x)\n",
    "print(obs_prob)"
   ]
  }
 ],
 "metadata": {
  "kernelspec": {
   "display_name": "Python 3",
   "language": "python",
   "name": "python3"
  },
  "language_info": {
   "codemirror_mode": {
    "name": "ipython",
    "version": 3
   },
   "file_extension": ".py",
   "mimetype": "text/x-python",
   "name": "python",
   "nbconvert_exporter": "python",
   "pygments_lexer": "ipython3",
   "version": "3.8.5"
  }
 },
 "nbformat": 4,
 "nbformat_minor": 5
}
